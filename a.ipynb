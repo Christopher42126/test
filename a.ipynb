{
 "cells": [
  {
   "cell_type": "code",
   "execution_count": 3,
   "metadata": {},
   "outputs": [
    {
     "name": "stdout",
     "output_type": "stream",
     "text": [
      "x:nick, y:egon, z:jason\n"
     ]
    }
   ],
   "source": [
    "name_list = ['nick', 'egon', 'jason', ]\n",
    "x, y, z = name_list\n",
    "\n",
    "print(f\"x:{x}, y:{y}, z:{z}\")"
   ]
  },
  {
   "cell_type": "code",
   "execution_count": 6,
   "metadata": {},
   "outputs": [
    {
     "name": "stdout",
     "output_type": "stream",
     "text": [
      "<class 'str'>\n"
     ]
    }
   ],
   "source": [
    "name = input(\"name\")\n",
    "print(type(name))"
   ]
  },
  {
   "cell_type": "code",
   "execution_count": 14,
   "metadata": {},
   "outputs": [
    {
     "name": "stdout",
     "output_type": "stream",
     "text": [
      "invalid literal for int() with base 10: 'hello'\n",
      "无论异常与否，都会执行该模块，通常是进行清理工作\n"
     ]
    }
   ],
   "source": [
    "s1 = 'hello'\n",
    "try:\n",
    "    int(s1)\n",
    "except IndexError as e:\n",
    "    print(e)\n",
    "except KeyError as e:\n",
    "    print(e)\n",
    "except ValueError as e:\n",
    "    print(e)\n",
    "#except Exception as e:\n",
    "#    print(e)\n",
    "else:\n",
    "    print('try内代码块没有异常则执行我')\n",
    "finally:\n",
    "    print('无论异常与否，都会执行该模块，通常是进行清理工作')"
   ]
  },
  {
   "cell_type": "code",
   "execution_count": 24,
   "metadata": {},
   "outputs": [
    {
     "name": "stdout",
     "output_type": "stream",
     "text": [
      "info.rsplit(':', 1): ['nick:male', '19']\n"
     ]
    }
   ],
   "source": [
    "info = 'nick:male:19'\n",
    "\n",
    "print(f\"info.rsplit(':', 1): {info.rsplit(':', 1)}\")  # 从右开始切割"
   ]
  },
  {
   "cell_type": "code",
   "execution_count": 32,
   "metadata": {},
   "outputs": [
    {
     "name": "stdout",
     "output_type": "stream",
     "text": [
      "['abcd test afg\\n', 'abxy\\n', '\\n', 'faker\\n', 'asdf\\n', 'zpl']\n"
     ]
    }
   ],
   "source": [
    "with open(\"test_1.txt\", \"r\") as f:\n",
    "    # data = f.read()\n",
    "    # print(data)\n",
    "    data_1 = f.readlines()\n",
    "    print(data_1)"
   ]
  },
  {
   "cell_type": "code",
   "execution_count": 38,
   "metadata": {},
   "outputs": [
    {
     "name": "stdout",
     "output_type": "stream",
     "text": [
      "g.__iter__ == g: True\n",
      "from func 1\n",
      "res1: a\n",
      "from func 2\n",
      "res2: b\n"
     ]
    },
    {
     "ename": "StopIteration",
     "evalue": "",
     "output_type": "error",
     "traceback": [
      "\u001b[1;31m---------------------------------------------------------------------------\u001b[0m",
      "\u001b[1;31mStopIteration\u001b[0m                             Traceback (most recent call last)",
      "Cell \u001b[1;32mIn[38], line 17\u001b[0m\n\u001b[0;32m     14\u001b[0m res2 \u001b[38;5;241m=\u001b[39m \u001b[38;5;28mnext\u001b[39m(g)\n\u001b[0;32m     15\u001b[0m \u001b[38;5;28mprint\u001b[39m(\u001b[38;5;124mf\u001b[39m\u001b[38;5;124m\"\u001b[39m\u001b[38;5;124mres2: \u001b[39m\u001b[38;5;132;01m{\u001b[39;00mres2\u001b[38;5;132;01m}\u001b[39;00m\u001b[38;5;124m\"\u001b[39m)\n\u001b[1;32m---> 17\u001b[0m \u001b[38;5;28;43mnext\u001b[39;49m\u001b[43m(\u001b[49m\u001b[43mg\u001b[49m\u001b[43m)\u001b[49m  \u001b[38;5;66;03m# StopIteration\u001b[39;00m\n",
      "\u001b[1;31mStopIteration\u001b[0m: "
     ]
    }
   ],
   "source": [
    "\n",
    "def func():\n",
    "    print('from func 1')\n",
    "    yield 'a'\n",
    "    print('from func 2')\n",
    "    yield 'b'\n",
    "\n",
    "\n",
    "g = func()\n",
    "print(F\"g.__iter__ == g: {g.__iter__() == g}\")\n",
    "\n",
    "res1 = g.__next__()\n",
    "print(f\"res1: {res1}\")\n",
    "\n",
    "res2 = next(g)\n",
    "print(f\"res2: {res2}\")\n",
    "\n",
    "# next(g)  # StopIteration"
   ]
  },
  {
   "cell_type": "code",
   "execution_count": 4,
   "metadata": {},
   "outputs": [
    {
     "name": "stdout",
     "output_type": "stream",
     "text": [
      "2025-02-17 12:27:48.597629\n",
      "<class 'datetime.datetime'>\n"
     ]
    }
   ],
   "source": [
    "import datetime\n",
    "print(datetime.datetime.now())\n",
    "print(type(datetime.datetime.now()))"
   ]
  },
  {
   "cell_type": "code",
   "execution_count": 5,
   "metadata": {},
   "outputs": [
    {
     "name": "stdout",
     "output_type": "stream",
     "text": [
      "23\n"
     ]
    }
   ],
   "source": [
    "import random\n",
    "print(random.choice([1, '23', [4, 5]]))"
   ]
  },
  {
   "cell_type": "code",
   "execution_count": 6,
   "metadata": {},
   "outputs": [
    {
     "data": {
      "text/plain": [
       "['m1.py', 'm2.py', '__pycache__']"
      ]
     },
     "execution_count": 6,
     "metadata": {},
     "output_type": "execute_result"
    }
   ],
   "source": [
    "import os\n",
    "os.listdir(\"./dir1\")"
   ]
  },
  {
   "cell_type": "code",
   "execution_count": 10,
   "metadata": {},
   "outputs": [
    {
     "name": "stderr",
     "output_type": "stream",
     "text": [
      "[INFO][2025-02-17 15:39:51,421][4243304314.py:71]It works!\n"
     ]
    }
   ],
   "source": [
    "import os\n",
    "import logging.config\n",
    "\n",
    "# 定义三种日志输出格式 开始\n",
    "standard_format = '[%(asctime)s][%(threadName)s:%(thread)d][task_id:%(name)s][%(filename)s:%(lineno)d]' \\\n",
    "                  '[%(levelname)s][%(message)s]'  # 其中name为getLogger()指定的名字；lineno为调用日志输出函数的语句所在的代码行\n",
    "simple_format = '[%(levelname)s][%(asctime)s][%(filename)s:%(lineno)d]%(message)s'\n",
    "id_simple_format = '[%(levelname)s][%(asctime)s] %(message)s'\n",
    "# 定义日志输出格式 结束\n",
    "\n",
    "logfile_dir = os.path.dirname(\"dir1\")  # log文件的目录，需要自定义文件路径 # atm\n",
    "logfile_dir = os.path.join(logfile_dir, 'log')  # C:\\Users\\oldboy\\Desktop\\atm\\log\n",
    "\n",
    "logfile_name = 'log.log'  # log文件名，需要自定义路径名\n",
    "\n",
    "# 如果不存在定义的日志目录就创建一个\n",
    "if not os.path.isdir(logfile_dir):  # C:\\Users\\oldboy\\Desktop\\atm\\log\n",
    "    os.mkdir(logfile_dir)\n",
    "\n",
    "# log文件的全路径\n",
    "logfile_path = os.path.join(logfile_dir, logfile_name)  # C:\\Users\\oldboy\\Desktop\\atm\\log\\log.log\n",
    "# 定义日志路径 结束\n",
    "\n",
    "# log配置字典\n",
    "LOGGING_DIC = {\n",
    "    'version': 1,\n",
    "    'disable_existing_loggers': False,\n",
    "    'formatters': {\n",
    "        'standard': {\n",
    "            'format': standard_format\n",
    "        },\n",
    "        'simple': {\n",
    "            'format': simple_format\n",
    "        },\n",
    "    },\n",
    "    'filters': {},  # filter可以不定义\n",
    "    'handlers': {\n",
    "        # 打印到终端的日志\n",
    "        'console': {\n",
    "            'level': 'DEBUG',\n",
    "            'class': 'logging.StreamHandler',  # 打印到屏幕\n",
    "            'formatter': 'simple'\n",
    "        },\n",
    "        # 打印到文件的日志,收集info及以上的日志\n",
    "        'default': {\n",
    "            'level': 'INFO',\n",
    "            'class': 'logging.handlers.RotatingFileHandler',  # 保存到文件\n",
    "            'formatter': 'standard',\n",
    "            'filename': logfile_path,  # 日志文件\n",
    "            'maxBytes': 1024 * 1024 * 5,  # 日志大小 5M  (*****)\n",
    "            'backupCount': 5,\n",
    "            'encoding': 'utf-8',  # 日志文件的编码，再也不用担心中文log乱码了\n",
    "        },\n",
    "    },\n",
    "    'loggers': {\n",
    "        # logging.getLogger(__name__)拿到的logger配置。如果''设置为固定值logger1，则下次导入必须设置成logging.getLogger('logger1')\n",
    "        '': {\n",
    "            # 这里把上面定义的两个handler都加上，即log数据既写入文件又打印到屏幕\n",
    "            'handlers': ['default', 'console'],\n",
    "            'level': 'DEBUG',\n",
    "            'propagate': False,  # 向上（更高level的logger）传递\n",
    "        },\n",
    "    },\n",
    "}\n",
    "\n",
    "\n",
    "\n",
    "def load_my_logging_cfg():\n",
    "    logging.config.dictConfig(LOGGING_DIC)  # 导入上面定义的logging配置\n",
    "    logger = logging.getLogger(__name__)  # 生成一个log实例\n",
    "    logger.info('It works!')  # 记录该文件的运行状态\n",
    "    \n",
    "    return logger\n",
    "\n",
    "\n",
    "if __name__ == '__main__':\n",
    "    load_my_logging_cfg()"
   ]
  },
  {
   "cell_type": "code",
   "execution_count": 11,
   "metadata": {},
   "outputs": [],
   "source": [
    "import numpy as np"
   ]
  },
  {
   "cell_type": "code",
   "execution_count": 14,
   "metadata": {},
   "outputs": [
    {
     "name": "stdout",
     "output_type": "stream",
     "text": [
      "[[ 1  2  3  4]\n",
      " [ 5  6  7  8]\n",
      " [ 9 10 11 12]]\n"
     ]
    }
   ],
   "source": [
    "arr = np.array([[1, 2, 3, 4], [5, 6, 7, 8], [9, 10, 11, 12]])\n",
    "print(arr)"
   ]
  },
  {
   "cell_type": "code",
   "execution_count": 15,
   "metadata": {},
   "outputs": [
    {
     "name": "stdout",
     "output_type": "stream",
     "text": [
      "[[1]\n",
      " [5]\n",
      " [9]]\n"
     ]
    }
   ],
   "source": [
    "print(arr[:,:1])"
   ]
  },
  {
   "cell_type": "code",
   "execution_count": 18,
   "metadata": {},
   "outputs": [
    {
     "data": {
      "text/plain": [
       "array([[ 0,  0,  0,  0],\n",
       "       [ 5,  6,  7,  8],\n",
       "       [ 9, 10, 11, 12]])"
      ]
     },
     "execution_count": 18,
     "metadata": {},
     "output_type": "execute_result"
    }
   ],
   "source": [
    "arr1 = arr.copy()\n",
    "arr1[:1, :] = 0\n",
    "arr1"
   ]
  },
  {
   "cell_type": "code",
   "execution_count": 19,
   "metadata": {},
   "outputs": [],
   "source": [
    "arr1 = np.array([[1, 2], [3, 4], [5, 6]])\n",
    "arr2 = np.array([[7, 8], [9, 10], [11, 12]])"
   ]
  },
  {
   "cell_type": "code",
   "execution_count": 23,
   "metadata": {},
   "outputs": [
    {
     "name": "stdout",
     "output_type": "stream",
     "text": [
      "[[ 1  2  7  8]\n",
      " [ 3  4  9 10]\n",
      " [ 5  6 11 12]]\n",
      "[[ 1  2]\n",
      " [ 3  4]\n",
      " [ 5  6]\n",
      " [ 7  8]\n",
      " [ 9 10]\n",
      " [11 12]]\n"
     ]
    }
   ],
   "source": [
    "print(np.hstack((arr1, arr2)))\n",
    "print(np.vstack((arr1, arr2)))"
   ]
  },
  {
   "cell_type": "code",
   "execution_count": 25,
   "metadata": {},
   "outputs": [
    {
     "name": "stdout",
     "output_type": "stream",
     "text": [
      "[[ 1  2  7  8]\n",
      " [ 3  4  9 10]\n",
      " [ 5  6 11 12]]\n"
     ]
    }
   ],
   "source": [
    "print(np.concatenate((arr1, arr2), axis=1))"
   ]
  },
  {
   "cell_type": "code",
   "execution_count": 27,
   "metadata": {},
   "outputs": [
    {
     "name": "stdout",
     "output_type": "stream",
     "text": [
      "[ 1  3  5  7  9 11 13 15 17 19]\n"
     ]
    }
   ],
   "source": [
    "print(np.arange(1,20, 2))"
   ]
  },
  {
   "cell_type": "code",
   "execution_count": 34,
   "metadata": {},
   "outputs": [
    {
     "name": "stdout",
     "output_type": "stream",
     "text": [
      "[[4.67296746e-307 1.69121096e-306 1.11258107e-307 1.89146896e-307]\n",
      " [7.56571288e-307 3.11525958e-307 1.24610723e-306 1.29061142e-306]\n",
      " [1.42418987e-306 1.60219035e-306 6.89809565e-307 1.22383391e-307]\n",
      " [1.05695252e-307 1.27946330e-307 1.33509100e-307 2.56765117e-312]]\n"
     ]
    }
   ],
   "source": [
    "print(np.empty((4, 4)))"
   ]
  },
  {
   "cell_type": "code",
   "execution_count": 37,
   "metadata": {},
   "outputs": [
    {
     "name": "stdout",
     "output_type": "stream",
     "text": [
      "(2, 3)\n",
      "(3, 2)\n"
     ]
    }
   ],
   "source": [
    "arr1 = np.array([[1, 2, 3], [4, 5, 6]])\n",
    "print(arr1.shape)\n",
    "arr2 = np.array([[7, 8], [9, 10], [11, 12]])\n",
    "print(arr2.shape)\n"
   ]
  },
  {
   "cell_type": "code",
   "execution_count": 38,
   "metadata": {},
   "outputs": [
    {
     "name": "stdout",
     "output_type": "stream",
     "text": [
      "[[ 58  64]\n",
      " [139 154]]\n"
     ]
    }
   ],
   "source": [
    "print(np.dot(arr1, arr2))"
   ]
  },
  {
   "cell_type": "code",
   "execution_count": 41,
   "metadata": {},
   "outputs": [
    {
     "name": "stdout",
     "output_type": "stream",
     "text": [
      "5.0\n"
     ]
    }
   ],
   "source": [
    "arr = np.array([[1, 2, 3], [4, 5, 6], [7, 8, 9]])\n",
    "print(np.median(arr))"
   ]
  },
  {
   "cell_type": "code",
   "execution_count": 42,
   "metadata": {},
   "outputs": [
    {
     "name": "stdout",
     "output_type": "stream",
     "text": [
      "[1 2 2 2 2 2 3 1 2 1]\n"
     ]
    }
   ],
   "source": [
    "print(np.random.randint(1, 5, 10))"
   ]
  },
  {
   "cell_type": "markdown",
   "metadata": {},
   "source": [
    "## Pandas"
   ]
  },
  {
   "cell_type": "code",
   "execution_count": 43,
   "metadata": {},
   "outputs": [],
   "source": [
    "import numpy as np\n",
    "import pandas as pd"
   ]
  },
  {
   "cell_type": "code",
   "execution_count": 48,
   "metadata": {},
   "outputs": [
    {
     "name": "stdout",
     "output_type": "stream",
     "text": [
      "a    1\n",
      "b    2\n",
      "c    3\n",
      "d    4\n",
      "dtype: int64\n",
      "[1 2 3 4]\n",
      "Index(['a', 'b', 'c', 'd'], dtype='object')\n"
     ]
    }
   ],
   "source": [
    "df =  pd.Series(range(1, 5), index=['a', 'b', 'c', 'd'])\n",
    "print(df)\n",
    "print(df.values)\n",
    "print(df.index)"
   ]
  },
  {
   "cell_type": "code",
   "execution_count": 58,
   "metadata": {},
   "outputs": [
    {
     "name": "stdout",
     "output_type": "stream",
     "text": [
      "a    1.0\n",
      "b    2.0\n",
      "c    3.0\n",
      "d    4.0\n",
      "dtype: float64\n"
     ]
    },
    {
     "data": {
      "text/plain": [
       "a    1.0\n",
       "b    2.0\n",
       "c    3.0\n",
       "d    4.0\n",
       "e    NaN\n",
       "dtype: float64"
      ]
     },
     "execution_count": 58,
     "metadata": {},
     "output_type": "execute_result"
    }
   ],
   "source": [
    "arr = np.array([1, 2, 3, 4, np.nan])\n",
    "df = pd.Series(arr, index=['a', 'b', 'c', 'd', 'e'])\n",
    "print(df.dropna())\n",
    "df"
   ]
  },
  {
   "cell_type": "code",
   "execution_count": 60,
   "metadata": {},
   "outputs": [
    {
     "name": "stdout",
     "output_type": "stream",
     "text": [
      "DatetimeIndex(['2019-01-31', '2019-02-28', '2019-03-31', '2019-04-30',\n",
      "               '2019-05-31', '2019-06-30'],\n",
      "              dtype='datetime64[ns]', freq='M')\n"
     ]
    }
   ],
   "source": [
    "dates = pd.date_range('20190101', periods=6, freq='M')\n",
    "print(dates)"
   ]
  },
  {
   "cell_type": "code",
   "execution_count": 59,
   "metadata": {},
   "outputs": [
    {
     "name": "stdout",
     "output_type": "stream",
     "text": [
      "[[ 16.24345364  -6.11756414  -5.28171752 -10.72968622]\n",
      " [  8.65407629 -23.01538697  17.44811764  -7.61206901]\n",
      " [  3.19039096  -2.49370375  14.62107937 -20.60140709]\n",
      " [ -3.22417204  -3.84054355  11.33769442 -10.99891267]\n",
      " [ -1.72428208  -8.77858418   0.42213747   5.82815214]\n",
      " [-11.00619177  11.4472371    9.01590721   5.02494339]]\n"
     ]
    }
   ],
   "source": [
    "np.random.seed(1)\n",
    "arr = 10 * np.random.randn(6, 4)\n",
    "print(arr)"
   ]
  },
  {
   "cell_type": "code",
   "execution_count": 62,
   "metadata": {},
   "outputs": [
    {
     "data": {
      "text/html": [
       "<div>\n",
       "<style scoped>\n",
       "    .dataframe tbody tr th:only-of-type {\n",
       "        vertical-align: middle;\n",
       "    }\n",
       "\n",
       "    .dataframe tbody tr th {\n",
       "        vertical-align: top;\n",
       "    }\n",
       "\n",
       "    .dataframe thead th {\n",
       "        text-align: right;\n",
       "    }\n",
       "</style>\n",
       "<table border=\"1\" class=\"dataframe\">\n",
       "  <thead>\n",
       "    <tr style=\"text-align: right;\">\n",
       "      <th></th>\n",
       "      <th>c1</th>\n",
       "      <th>c2</th>\n",
       "      <th>c3</th>\n",
       "      <th>c4</th>\n",
       "    </tr>\n",
       "  </thead>\n",
       "  <tbody>\n",
       "    <tr>\n",
       "      <th>2019-01-31</th>\n",
       "      <td>16.243454</td>\n",
       "      <td>-6.117564</td>\n",
       "      <td>-5.281718</td>\n",
       "      <td>-10.729686</td>\n",
       "    </tr>\n",
       "    <tr>\n",
       "      <th>2019-02-28</th>\n",
       "      <td>8.654076</td>\n",
       "      <td>-23.015387</td>\n",
       "      <td>17.448118</td>\n",
       "      <td>-7.612069</td>\n",
       "    </tr>\n",
       "    <tr>\n",
       "      <th>2019-03-31</th>\n",
       "      <td>3.190391</td>\n",
       "      <td>-2.493704</td>\n",
       "      <td>14.621079</td>\n",
       "      <td>-20.601407</td>\n",
       "    </tr>\n",
       "    <tr>\n",
       "      <th>2019-04-30</th>\n",
       "      <td>-3.224172</td>\n",
       "      <td>-3.840544</td>\n",
       "      <td>11.337694</td>\n",
       "      <td>-10.998913</td>\n",
       "    </tr>\n",
       "    <tr>\n",
       "      <th>2019-05-31</th>\n",
       "      <td>-1.724282</td>\n",
       "      <td>-8.778584</td>\n",
       "      <td>0.422137</td>\n",
       "      <td>5.828152</td>\n",
       "    </tr>\n",
       "    <tr>\n",
       "      <th>2019-06-30</th>\n",
       "      <td>-11.006192</td>\n",
       "      <td>11.447237</td>\n",
       "      <td>9.015907</td>\n",
       "      <td>5.024943</td>\n",
       "    </tr>\n",
       "  </tbody>\n",
       "</table>\n",
       "</div>"
      ],
      "text/plain": [
       "                   c1         c2         c3         c4\n",
       "2019-01-31  16.243454  -6.117564  -5.281718 -10.729686\n",
       "2019-02-28   8.654076 -23.015387  17.448118  -7.612069\n",
       "2019-03-31   3.190391  -2.493704  14.621079 -20.601407\n",
       "2019-04-30  -3.224172  -3.840544  11.337694 -10.998913\n",
       "2019-05-31  -1.724282  -8.778584   0.422137   5.828152\n",
       "2019-06-30 -11.006192  11.447237   9.015907   5.024943"
      ]
     },
     "execution_count": 62,
     "metadata": {},
     "output_type": "execute_result"
    }
   ],
   "source": [
    "df = pd.DataFrame(arr, index=dates, columns=['c1', 'c2', 'c3', 'c4'])\n",
    "df"
   ]
  },
  {
   "cell_type": "code",
   "execution_count": 78,
   "metadata": {},
   "outputs": [
    {
     "data": {
      "text/html": [
       "<div>\n",
       "<style scoped>\n",
       "    .dataframe tbody tr th:only-of-type {\n",
       "        vertical-align: middle;\n",
       "    }\n",
       "\n",
       "    .dataframe tbody tr th {\n",
       "        vertical-align: top;\n",
       "    }\n",
       "\n",
       "    .dataframe thead th {\n",
       "        text-align: right;\n",
       "    }\n",
       "</style>\n",
       "<table border=\"1\" class=\"dataframe\">\n",
       "  <thead>\n",
       "    <tr style=\"text-align: right;\">\n",
       "      <th></th>\n",
       "      <th>c1</th>\n",
       "      <th>c2</th>\n",
       "      <th>c3</th>\n",
       "      <th>c4</th>\n",
       "    </tr>\n",
       "  </thead>\n",
       "  <tbody>\n",
       "    <tr>\n",
       "      <th>2019-02-28</th>\n",
       "      <td>8.654076</td>\n",
       "      <td>-23.015387</td>\n",
       "      <td>17.448118</td>\n",
       "      <td>-7.612069</td>\n",
       "    </tr>\n",
       "    <tr>\n",
       "      <th>2019-05-31</th>\n",
       "      <td>-1.724282</td>\n",
       "      <td>-8.778584</td>\n",
       "      <td>0.422137</td>\n",
       "      <td>5.828152</td>\n",
       "    </tr>\n",
       "    <tr>\n",
       "      <th>2019-01-31</th>\n",
       "      <td>16.243454</td>\n",
       "      <td>-6.117564</td>\n",
       "      <td>-5.281718</td>\n",
       "      <td>-10.729686</td>\n",
       "    </tr>\n",
       "    <tr>\n",
       "      <th>2019-04-30</th>\n",
       "      <td>-3.224172</td>\n",
       "      <td>-3.840544</td>\n",
       "      <td>11.337694</td>\n",
       "      <td>-10.998913</td>\n",
       "    </tr>\n",
       "    <tr>\n",
       "      <th>2019-03-31</th>\n",
       "      <td>3.190391</td>\n",
       "      <td>-2.493704</td>\n",
       "      <td>14.621079</td>\n",
       "      <td>-20.601407</td>\n",
       "    </tr>\n",
       "    <tr>\n",
       "      <th>2019-06-30</th>\n",
       "      <td>-11.006192</td>\n",
       "      <td>11.447237</td>\n",
       "      <td>9.015907</td>\n",
       "      <td>5.024943</td>\n",
       "    </tr>\n",
       "  </tbody>\n",
       "</table>\n",
       "</div>"
      ],
      "text/plain": [
       "                   c1         c2         c3         c4\n",
       "2019-02-28   8.654076 -23.015387  17.448118  -7.612069\n",
       "2019-05-31  -1.724282  -8.778584   0.422137   5.828152\n",
       "2019-01-31  16.243454  -6.117564  -5.281718 -10.729686\n",
       "2019-04-30  -3.224172  -3.840544  11.337694 -10.998913\n",
       "2019-03-31   3.190391  -2.493704  14.621079 -20.601407\n",
       "2019-06-30 -11.006192  11.447237   9.015907   5.024943"
      ]
     },
     "execution_count": 78,
     "metadata": {},
     "output_type": "execute_result"
    }
   ],
   "source": [
    "df.sort_values(by='c2')"
   ]
  },
  {
   "cell_type": "code",
   "execution_count": 86,
   "metadata": {},
   "outputs": [
    {
     "data": {
      "text/html": [
       "<div>\n",
       "<style scoped>\n",
       "    .dataframe tbody tr th:only-of-type {\n",
       "        vertical-align: middle;\n",
       "    }\n",
       "\n",
       "    .dataframe tbody tr th {\n",
       "        vertical-align: top;\n",
       "    }\n",
       "\n",
       "    .dataframe thead th {\n",
       "        text-align: right;\n",
       "    }\n",
       "</style>\n",
       "<table border=\"1\" class=\"dataframe\">\n",
       "  <thead>\n",
       "    <tr style=\"text-align: right;\">\n",
       "      <th></th>\n",
       "      <th>c1</th>\n",
       "      <th>c2</th>\n",
       "      <th>c3</th>\n",
       "      <th>c4</th>\n",
       "    </tr>\n",
       "  </thead>\n",
       "  <tbody>\n",
       "    <tr>\n",
       "      <th>2019-01-31</th>\n",
       "      <td>16.243454</td>\n",
       "      <td>-6.117564</td>\n",
       "      <td>-5.281718</td>\n",
       "      <td>-10.729686</td>\n",
       "    </tr>\n",
       "    <tr>\n",
       "      <th>2019-02-28</th>\n",
       "      <td>8.654076</td>\n",
       "      <td>-23.015387</td>\n",
       "      <td>17.448118</td>\n",
       "      <td>-7.612069</td>\n",
       "    </tr>\n",
       "    <tr>\n",
       "      <th>2019-03-31</th>\n",
       "      <td>3.190391</td>\n",
       "      <td>-2.493704</td>\n",
       "      <td>14.621079</td>\n",
       "      <td>-20.601407</td>\n",
       "    </tr>\n",
       "    <tr>\n",
       "      <th>2019-04-30</th>\n",
       "      <td>-3.224172</td>\n",
       "      <td>-3.840544</td>\n",
       "      <td>11.337694</td>\n",
       "      <td>-10.998913</td>\n",
       "    </tr>\n",
       "    <tr>\n",
       "      <th>2019-05-31</th>\n",
       "      <td>-1.724282</td>\n",
       "      <td>-8.778584</td>\n",
       "      <td>0.422137</td>\n",
       "      <td>5.828152</td>\n",
       "    </tr>\n",
       "    <tr>\n",
       "      <th>2019-06-30</th>\n",
       "      <td>-11.006192</td>\n",
       "      <td>11.447237</td>\n",
       "      <td>9.015907</td>\n",
       "      <td>5.024943</td>\n",
       "    </tr>\n",
       "  </tbody>\n",
       "</table>\n",
       "</div>"
      ],
      "text/plain": [
       "                   c1         c2         c3         c4\n",
       "2019-01-31  16.243454  -6.117564  -5.281718 -10.729686\n",
       "2019-02-28   8.654076 -23.015387  17.448118  -7.612069\n",
       "2019-03-31   3.190391  -2.493704  14.621079 -20.601407\n",
       "2019-04-30  -3.224172  -3.840544  11.337694 -10.998913\n",
       "2019-05-31  -1.724282  -8.778584   0.422137   5.828152\n",
       "2019-06-30 -11.006192  11.447237   9.015907   5.024943"
      ]
     },
     "execution_count": 86,
     "metadata": {},
     "output_type": "execute_result"
    }
   ],
   "source": [
    "df.loc[:]"
   ]
  },
  {
   "cell_type": "code",
   "execution_count": 87,
   "metadata": {},
   "outputs": [
    {
     "data": {
      "text/html": [
       "<div>\n",
       "<style scoped>\n",
       "    .dataframe tbody tr th:only-of-type {\n",
       "        vertical-align: middle;\n",
       "    }\n",
       "\n",
       "    .dataframe tbody tr th {\n",
       "        vertical-align: top;\n",
       "    }\n",
       "\n",
       "    .dataframe thead th {\n",
       "        text-align: right;\n",
       "    }\n",
       "</style>\n",
       "<table border=\"1\" class=\"dataframe\">\n",
       "  <thead>\n",
       "    <tr style=\"text-align: right;\">\n",
       "      <th></th>\n",
       "      <th>c1</th>\n",
       "      <th>c2</th>\n",
       "      <th>c3</th>\n",
       "      <th>c4</th>\n",
       "    </tr>\n",
       "  </thead>\n",
       "  <tbody>\n",
       "    <tr>\n",
       "      <th>0</th>\n",
       "      <td>5.1</td>\n",
       "      <td>NaN</td>\n",
       "      <td>1.4</td>\n",
       "      <td>0.2</td>\n",
       "    </tr>\n",
       "    <tr>\n",
       "      <th>1</th>\n",
       "      <td>4.9</td>\n",
       "      <td>3.0</td>\n",
       "      <td>1.4</td>\n",
       "      <td>0.2</td>\n",
       "    </tr>\n",
       "    <tr>\n",
       "      <th>2</th>\n",
       "      <td>4.7</td>\n",
       "      <td>3.2</td>\n",
       "      <td>NaN</td>\n",
       "      <td>0.2</td>\n",
       "    </tr>\n",
       "    <tr>\n",
       "      <th>3</th>\n",
       "      <td>7.0</td>\n",
       "      <td>3.2</td>\n",
       "      <td>4.7</td>\n",
       "      <td>1.4</td>\n",
       "    </tr>\n",
       "    <tr>\n",
       "      <th>4</th>\n",
       "      <td>6.4</td>\n",
       "      <td>3.2</td>\n",
       "      <td>4.5</td>\n",
       "      <td>1.5</td>\n",
       "    </tr>\n",
       "    <tr>\n",
       "      <th>5</th>\n",
       "      <td>6.9</td>\n",
       "      <td>3.1</td>\n",
       "      <td>4.9</td>\n",
       "      <td>NaN</td>\n",
       "    </tr>\n",
       "    <tr>\n",
       "      <th>6</th>\n",
       "      <td>NaN</td>\n",
       "      <td>NaN</td>\n",
       "      <td>NaN</td>\n",
       "      <td>NaN</td>\n",
       "    </tr>\n",
       "  </tbody>\n",
       "</table>\n",
       "</div>"
      ],
      "text/plain": [
       "    c1   c2   c3   c4\n",
       "0  5.1  NaN  1.4  0.2\n",
       "1  4.9  3.0  1.4  0.2\n",
       "2  4.7  3.2  NaN  0.2\n",
       "3  7.0  3.2  4.7  1.4\n",
       "4  6.4  3.2  4.5  1.5\n",
       "5  6.9  3.1  4.9  NaN\n",
       "6  NaN  NaN  NaN  NaN"
      ]
     },
     "execution_count": 87,
     "metadata": {},
     "output_type": "execute_result"
    }
   ],
   "source": [
    "import pandas as pd\n",
    "from io import StringIO\n",
    "test_data = '''\n",
    "5.1,,1.4,0.2\n",
    "4.9,3.0,1.4,0.2\n",
    "4.7,3.2,,0.2\n",
    "7.0,3.2,4.7,1.4\n",
    "6.4,3.2,4.5,1.5\n",
    "6.9,3.1,4.9,\n",
    ",,,\n",
    "'''\n",
    "\n",
    "test_data = StringIO(test_data)\n",
    "df = pd.read_csv(test_data, header=None)\n",
    "df.columns = ['c1', 'c2', 'c3', 'c4']\n",
    "df"
   ]
  },
  {
   "cell_type": "code",
   "execution_count": 89,
   "metadata": {},
   "outputs": [
    {
     "name": "stdout",
     "output_type": "stream",
     "text": [
      "c1    1\n",
      "c2    2\n",
      "c3    2\n",
      "c4    2\n",
      "dtype: int64\n"
     ]
    }
   ],
   "source": [
    "df.isnull()\n",
    "print(df.isnull().sum())"
   ]
  },
  {
   "cell_type": "code",
   "execution_count": 90,
   "metadata": {},
   "outputs": [
    {
     "data": {
      "text/html": [
       "<div>\n",
       "<style scoped>\n",
       "    .dataframe tbody tr th:only-of-type {\n",
       "        vertical-align: middle;\n",
       "    }\n",
       "\n",
       "    .dataframe tbody tr th {\n",
       "        vertical-align: top;\n",
       "    }\n",
       "\n",
       "    .dataframe thead th {\n",
       "        text-align: right;\n",
       "    }\n",
       "</style>\n",
       "<table border=\"1\" class=\"dataframe\">\n",
       "  <thead>\n",
       "    <tr style=\"text-align: right;\">\n",
       "      <th></th>\n",
       "      <th>ttery</th>\n",
       "      <th>issue</th>\n",
       "      <th>code</th>\n",
       "      <th>code1</th>\n",
       "      <th>code2</th>\n",
       "      <th>time</th>\n",
       "    </tr>\n",
       "  </thead>\n",
       "  <tbody>\n",
       "    <tr>\n",
       "      <th>0</th>\n",
       "      <td>min</td>\n",
       "      <td>20130801-3391</td>\n",
       "      <td>8,4,5,2,9</td>\n",
       "      <td>297734529</td>\n",
       "      <td>NaN</td>\n",
       "      <td>1013395466000</td>\n",
       "    </tr>\n",
       "    <tr>\n",
       "      <th>1</th>\n",
       "      <td>min</td>\n",
       "      <td>20130801-3390</td>\n",
       "      <td>7,8,2,1,2</td>\n",
       "      <td>298058212</td>\n",
       "      <td>NaN</td>\n",
       "      <td>1013395406000</td>\n",
       "    </tr>\n",
       "    <tr>\n",
       "      <th>2</th>\n",
       "      <td>min</td>\n",
       "      <td>20130801-3389</td>\n",
       "      <td>5,9,1,2,9</td>\n",
       "      <td>298329129</td>\n",
       "      <td>NaN</td>\n",
       "      <td>1013395346000</td>\n",
       "    </tr>\n",
       "    <tr>\n",
       "      <th>3</th>\n",
       "      <td>min</td>\n",
       "      <td>20130801-3388</td>\n",
       "      <td>3,8,7,3,3</td>\n",
       "      <td>298588733</td>\n",
       "      <td>NaN</td>\n",
       "      <td>1013395286000</td>\n",
       "    </tr>\n",
       "    <tr>\n",
       "      <th>4</th>\n",
       "      <td>min</td>\n",
       "      <td>20130801-3387</td>\n",
       "      <td>0,8,5,2,7</td>\n",
       "      <td>298818527</td>\n",
       "      <td>NaN</td>\n",
       "      <td>1013395226000</td>\n",
       "    </tr>\n",
       "  </tbody>\n",
       "</table>\n",
       "</div>"
      ],
      "text/plain": [
       "  ttery          issue       code      code1  code2           time\n",
       "0   min  20130801-3391  8,4,5,2,9  297734529    NaN  1013395466000\n",
       "1   min  20130801-3390  7,8,2,1,2  298058212    NaN  1013395406000\n",
       "2   min  20130801-3389  5,9,1,2,9  298329129    NaN  1013395346000\n",
       "3   min  20130801-3388  3,8,7,3,3  298588733    NaN  1013395286000\n",
       "4   min  20130801-3387  0,8,5,2,7  298818527    NaN  1013395226000"
      ]
     },
     "execution_count": 90,
     "metadata": {},
     "output_type": "execute_result"
    }
   ],
   "source": [
    "strtext = '[{\"ttery\":\"min\",\"issue\":\"20130801-3391\",\"code\":\"8,4,5,2,9\",\"code1\":\"297734529\",\"code2\":null,\"time\":1013395466000},\\\n",
    "{\"ttery\":\"min\",\"issue\":\"20130801-3390\",\"code\":\"7,8,2,1,2\",\"code1\":\"298058212\",\"code2\":null,\"time\":1013395406000},\\\n",
    "{\"ttery\":\"min\",\"issue\":\"20130801-3389\",\"code\":\"5,9,1,2,9\",\"code1\":\"298329129\",\"code2\":null,\"time\":1013395346000},\\\n",
    "{\"ttery\":\"min\",\"issue\":\"20130801-3388\",\"code\":\"3,8,7,3,3\",\"code1\":\"298588733\",\"code2\":null,\"time\":1013395286000},\\\n",
    "{\"ttery\":\"min\",\"issue\":\"20130801-3387\",\"code\":\"0,8,5,2,7\",\"code1\":\"298818527\",\"code2\":null,\"time\":1013395226000}]'\n",
    "\n",
    "df = pd.read_json(strtext, orient='records')\n",
    "df"
   ]
  },
  {
   "cell_type": "markdown",
   "metadata": {},
   "source": [
    "## Matplotlib"
   ]
  },
  {
   "cell_type": "code",
   "execution_count": 94,
   "metadata": {},
   "outputs": [
    {
     "name": "stderr",
     "output_type": "stream",
     "text": [
      "[DEBUG][2025-02-17 21:40:08,018][pyplot.py:280]Loaded backend module://matplotlib_inline.backend_inline version unknown.\n"
     ]
    }
   ],
   "source": [
    "import matplotlib.pyplot as plt\n",
    "from matplotlib.font_manager import FontProperties\n",
    "%matplotlib inline\n",
    "# font = FontProperties(fname='/Library/Fonts/Heiti.ttc')"
   ]
  },
  {
   "cell_type": "code",
   "execution_count": 99,
   "metadata": {},
   "outputs": [
    {
     "name": "stdout",
     "output_type": "stream",
     "text": [
      "[0, 1, 2, 3]\n"
     ]
    },
    {
     "data": {
      "image/png": "[encoded data removed]",
      "text/plain": [
       "<Figure size 640x480 with 1 Axes>"
      ]
     },
     "metadata": {},
     "output_type": "display_data"
    }
   ],
   "source": [
    "# 修改背景为条纹\n",
    "plt.style.use('ggplot')\n",
    "\n",
    "classes = ['class 3', 'class 4', 'class 5', 'class 6']\n",
    "\n",
    "classes_index = range(len(classes))\n",
    "print(list(classes_index))\n",
    "\n",
    "student_amounts = [66, 55, 45, 70]\n",
    "\n",
    "# 画布设置\n",
    "fig = plt.figure()\n",
    "# 1,1,1表示一张画布切割成1行1列共一张图的第1个；2,2,1表示一张画布切割成2行2列共4张图的第一个（左上角）\n",
    "ax1 = fig.add_subplot(1, 1, 1)\n",
    "ax1.bar(classes_index, student_amounts, align='center', color='darkblue')\n",
    "ax1.xaxis.set_ticks_position('bottom')\n",
    "ax1.yaxis.set_ticks_position('left')\n",
    "\n",
    "plt.xticks(classes_index,\n",
    "           classes,\n",
    "           rotation=0,\n",
    "           fontsize=13)\n",
    "plt.xlabel('class', fontsize=15)\n",
    "plt.ylabel('student amount', fontsize=15)\n",
    "plt.title('class-student amount', fontsize=20)\n",
    "# 保存图片，bbox_inches='tight'去掉图形四周的空白\n",
    "# plt.savefig('classes_students.png?x-oss-process=style/watermark', dpi=400, bbox_inches='tight')\n",
    "plt.show()"
   ]
  },
  {
   "cell_type": "markdown",
   "metadata": {},
   "source": [
    "## 面向对象"
   ]
  },
  {
   "cell_type": "code",
   "execution_count": 100,
   "metadata": {},
   "outputs": [],
   "source": [
    "# 注意类中定义变量使用驼峰体\n",
    "class OldboyStudent():\n",
    "    school = 'oldboy'\n",
    "\n",
    "    def choose_course(self):\n",
    "        print('is choosing course')"
   ]
  },
  {
   "cell_type": "code",
   "execution_count": 101,
   "metadata": {},
   "outputs": [
    {
     "name": "stdout",
     "output_type": "stream",
     "text": [
      "{'__module__': '__main__', 'school': 'oldboy', 'choose_course': <function OldboyStudent.choose_course at 0x000001D14F68F0D0>, '__dict__': <attribute '__dict__' of 'OldboyStudent' objects>, '__weakref__': <attribute '__weakref__' of 'OldboyStudent' objects>, '__doc__': None}\n"
     ]
    }
   ],
   "source": [
    "print(OldboyStudent.__dict__)"
   ]
  },
  {
   "cell_type": "code",
   "execution_count": 102,
   "metadata": {},
   "outputs": [],
   "source": [
    "class Parent1:\n",
    "    pass\n",
    "\n",
    "\n",
    "class Parent2:\n",
    "    pass\n",
    "\n",
    "\n",
    "class Sub1(Parent1, Parent2):\n",
    "    pass"
   ]
  },
  {
   "cell_type": "code",
   "execution_count": 103,
   "metadata": {},
   "outputs": [
    {
     "name": "stdout",
     "output_type": "stream",
     "text": [
      "(<class '__main__.Parent1'>, <class '__main__.Parent2'>)\n"
     ]
    }
   ],
   "source": [
    "print(Sub1.__bases__)"
   ]
  },
  {
   "cell_type": "code",
   "execution_count": 104,
   "metadata": {},
   "outputs": [],
   "source": [
    "\n",
    "#coding=utf-8\n",
    "# ############### 定义 ###############\n",
    "class Goods:\n",
    "    \"\"\"python3中默认继承object类\n",
    "        以python2、3执行此程序的结果不同，因为只有在python3中才有@xxx.setter  @xxx.deleter\n",
    "    \"\"\"\n",
    "\n",
    "    @property\n",
    "    def price(self):\n",
    "        print('@property')\n",
    "\n",
    "    @price.setter\n",
    "    def price(self, value):\n",
    "        print('@price.setter')\n",
    "\n",
    "    @price.deleter\n",
    "    def price(self):\n",
    "        print('@price.deleter')\n",
    "\n"
   ]
  },
  {
   "cell_type": "code",
   "execution_count": 107,
   "metadata": {},
   "outputs": [
    {
     "name": "stdout",
     "output_type": "stream",
     "text": [
      "@price.deleter\n"
     ]
    }
   ],
   "source": [
    "good = Goods()\n",
    "\n",
    "del good.price"
   ]
  },
  {
   "cell_type": "code",
   "execution_count": 108,
   "metadata": {},
   "outputs": [],
   "source": [
    "class People:\n",
    "    def __init__(self, name):\n",
    "        self.__name = name\n",
    "\n",
    "    @property  # 查看obj.name\n",
    "    def name(self):\n",
    "        return '<名字是：%s>' % self.__name\n"
   ]
  },
  {
   "cell_type": "code",
   "execution_count": 109,
   "metadata": {},
   "outputs": [],
   "source": [
    "class People:\n",
    "    def __init__(self, name):\n",
    "        self.__name = name\n",
    "    \n",
    "    @property\n",
    "    def name(self):\n",
    "        return f\"名字是: {self.__name}\""
   ]
  },
  {
   "cell_type": "code",
   "execution_count": 110,
   "metadata": {},
   "outputs": [],
   "source": [
    "p1 = People(\"leo\")"
   ]
  },
  {
   "cell_type": "code",
   "execution_count": 111,
   "metadata": {},
   "outputs": [
    {
     "data": {
      "text/plain": [
       "'名字是: leo'"
      ]
     },
     "execution_count": 111,
     "metadata": {},
     "output_type": "execute_result"
    }
   ],
   "source": [
    "class Money(object):\n",
    "    def __init__(self):\n",
    "        self.__money = 0\n",
    "\n",
    "    # 使用装饰器对money进行装饰，那么会自动添加一个叫money的属性，当调用获取money的值时，调用装饰的方法\n",
    "    @property\n",
    "    def money(self):\n",
    "        return self.__money\n",
    "\n",
    "    # 使用装饰器对money进行装饰，当对money设置值时，调用装饰的方法\n",
    "    @money.setter\n",
    "    def money(self, value):\n",
    "        if isinstance(value, int):\n",
    "            self.__money = value\n",
    "        else:\n",
    "            print(\"error:不是整型数字\")\n",
    "\n",
    "\n",
    "a = Money()\n",
    "a.money = 100\n",
    "print(a.money)"
   ]
  },
  {
   "cell_type": "code",
   "execution_count": 112,
   "metadata": {},
   "outputs": [],
   "source": [
    "class Operate_database():\n",
    "    host = '192.168.0.5'\n",
    "    port = '3306'\n",
    "    user = 'abc'\n",
    "    password = '123456'\n",
    "\n",
    "    @classmethod\n",
    "    def connect(cls):  # 约定俗成第一个参数名为cls，也可以定义为其他参数名\n",
    "        print(cls)\n",
    "        print(cls.host + ':' + cls.port + ' ' + cls.user + '/' + cls.password)\n",
    "\n"
   ]
  },
  {
   "cell_type": "code",
   "execution_count": 113,
   "metadata": {},
   "outputs": [
    {
     "name": "stdout",
     "output_type": "stream",
     "text": [
      "<class '__main__.Operate_database'>\n",
      "192.168.0.5:3306 abc/123456\n"
     ]
    }
   ],
   "source": [
    "Operate_database.connect()"
   ]
  },
  {
   "cell_type": "code",
   "execution_count": 115,
   "metadata": {},
   "outputs": [
    {
     "name": "stdout",
     "output_type": "stream",
     "text": [
      "<class '__main__.Operate_database'>\n",
      "192.168.0.5:3306 abc/123456\n"
     ]
    }
   ],
   "source": [
    "import hashlib\n",
    "\n",
    "\n",
    "class Operate_database():\n",
    "    def __init__(self, host, port, user, password):\n",
    "        self.host = host\n",
    "        self.port = port\n",
    "        self.user = user\n",
    "        self.password = password\n",
    "\n",
    "    @staticmethod\n",
    "    def get_passwrod(salt, password):\n",
    "        m = hashlib.md5(salt.encode('utf-8'))  # 加盐处理\n",
    "        m.update(password.encode('utf-8'))\n",
    "        return m.hexdigest()\n",
    "\n",
    "\n",
    "hash_password = Operate_database.get_passwrod('lala', '123456')  # 通过类来调用\n",
    "print(hash_password)"
   ]
  },
  {
   "cell_type": "code",
   "execution_count": null,
   "metadata": {},
   "outputs": [],
   "source": [
    "# isinstance参数为对象和类\n",
    "print(isinstance(Bar(),Foo))"
   ]
  },
  {
   "cell_type": "code",
   "execution_count": 119,
   "metadata": {},
   "outputs": [
    {
     "name": "stdout",
     "output_type": "stream",
     "text": [
      "True\n"
     ]
    }
   ],
   "source": [
    "class People:\n",
    "    country = 'China'\n",
    "\n",
    "    def __init__(self, name):\n",
    "        self.name = name\n",
    "\n",
    "    def eat(self):\n",
    "        print('%s is eating' % self.name)\n",
    "\n",
    "\n",
    "peo1 = People('nick')\n",
    "print(hasattr(peo1, \"eat\"))"
   ]
  },
  {
   "cell_type": "code",
   "execution_count": 121,
   "metadata": {},
   "outputs": [
    {
     "name": "stdout",
     "output_type": "stream",
     "text": [
      "nick is eating\n"
     ]
    }
   ],
   "source": [
    "getattr(peo1, 'eat')()"
   ]
  },
  {
   "cell_type": "code",
   "execution_count": 122,
   "metadata": {},
   "outputs": [
    {
     "name": "stdout",
     "output_type": "stream",
     "text": [
      "----> from setattr\n"
     ]
    }
   ],
   "source": [
    "class Foo:\n",
    "    x = 1\n",
    "\n",
    "    def __init__(self, y):\n",
    "        self.y = y\n",
    "\n",
    "    def __getattr__(self, item):\n",
    "        print('----> from getattr:你找的属性不存在')\n",
    "\n",
    "    def __setattr__(self, key, value):\n",
    "        print('----> from setattr')\n",
    "        # self.key = value  # 这就无限递归了,你好好想想\n",
    "        # self.__dict__[key] = value  # 应该使用它\n",
    "\n",
    "    def __delattr__(self, item):\n",
    "        print('----> from delattr')\n",
    "        # del self.item  # 无限递归了\n",
    "        self.__dict__.pop(item)\n",
    "\n",
    "\n",
    "f1 = Foo(10)\n"
   ]
  },
  {
   "cell_type": "code",
   "execution_count": 126,
   "metadata": {},
   "outputs": [
    {
     "name": "stdout",
     "output_type": "stream",
     "text": [
      "{}\n",
      "----> from setattr\n"
     ]
    }
   ],
   "source": [
    "print(f1.__dict__)\n",
    "f1.z = 3"
   ]
  },
  {
   "cell_type": "code",
   "execution_count": 131,
   "metadata": {},
   "outputs": [
    {
     "name": "stdout",
     "output_type": "stream",
     "text": [
      "{}\n"
     ]
    }
   ],
   "source": [
    "print(f1.__dict__)"
   ]
  },
  {
   "cell_type": "code",
   "execution_count": 128,
   "metadata": {},
   "outputs": [],
   "source": [
    "f1.__dict__['a'] = 3"
   ]
  },
  {
   "cell_type": "code",
   "execution_count": 130,
   "metadata": {},
   "outputs": [
    {
     "name": "stdout",
     "output_type": "stream",
     "text": [
      "----> from delattr\n"
     ]
    }
   ],
   "source": [
    "del f1.a"
   ]
  },
  {
   "cell_type": "code",
   "execution_count": 140,
   "metadata": {},
   "outputs": [],
   "source": [
    "#_*_coding:utf-8_*_\n",
    "__author__ = 'Linhaifeng'\n",
    "\n",
    "\n",
    "class Foo:\n",
    "    def __init__(self, x):\n",
    "        self.x = x\n",
    "\n",
    "    def __getattr__(self, item):\n",
    "        print('执行的是我')\n",
    "        # return self.__dict__[item]\n",
    "    def __getattribute__(self, item):\n",
    "        print('不管是否存在,我都会执行')\n",
    "        # raise AttributeError('哈哈')\n",
    "\n",
    "\n",
    "f1 = Foo(10)"
   ]
  },
  {
   "cell_type": "code",
   "execution_count": 142,
   "metadata": {},
   "outputs": [
    {
     "name": "stdout",
     "output_type": "stream",
     "text": [
      "不管是否存在,我都会执行\n"
     ]
    }
   ],
   "source": [
    "f1.xxxx"
   ]
  },
  {
   "cell_type": "code",
   "execution_count": 1,
   "metadata": {},
   "outputs": [],
   "source": [
    "class Foo:\n",
    "    def __get__(self, instance, owner):\n",
    "        print('触发get')\n",
    "\n",
    "    def __set__(self, instance, value):\n",
    "        print('触发set')\n",
    "\n",
    "    def __delete__(self, instance):\n",
    "        print('触发delete')\n",
    "\n",
    "\n",
    "f1 = Foo()"
   ]
  },
  {
   "cell_type": "code",
   "execution_count": 3,
   "metadata": {},
   "outputs": [
    {
     "data": {
      "text/plain": [
       "'leo'"
      ]
     },
     "execution_count": 3,
     "metadata": {},
     "output_type": "execute_result"
    }
   ],
   "source": [
    "f1.name = \"leo\"\n",
    "f1.name"
   ]
  },
  {
   "cell_type": "code",
   "execution_count": 4,
   "metadata": {},
   "outputs": [
    {
     "name": "stdout",
     "output_type": "stream",
     "text": [
      "Str设置...\n",
      "Int设置...\n"
     ]
    }
   ],
   "source": [
    "class Str:\n",
    "    \"\"\"描述符Str\"\"\"\n",
    "\n",
    "    def __get__(self, instance, owner):\n",
    "        print('Str调用')\n",
    "\n",
    "    def __set__(self, instance, value):\n",
    "        print('Str设置...')\n",
    "\n",
    "    def __delete__(self, instance):\n",
    "        print('Str删除...')\n",
    "\n",
    "\n",
    "class Int:\n",
    "    \"\"\"描述符Int\"\"\"\n",
    "\n",
    "    def __get__(self, instance, owner):\n",
    "        print('Int调用')\n",
    "\n",
    "    def __set__(self, instance, value):\n",
    "        print('Int设置...')\n",
    "\n",
    "    def __delete__(self, instance):\n",
    "        print('Int删除...')\n",
    "\n",
    "\n",
    "class People:\n",
    "    name = Str()\n",
    "    age = Int()\n",
    "\n",
    "    def __init__(self, name, age):  # name被Str类代理，age被Int类代理\n",
    "        self.name = name\n",
    "        self.age = age\n",
    "\n",
    "\n",
    "# 何地？：定义成另外一个类的类属性\n",
    "\n",
    "# 何时？：且看下列演示\n",
    "\n",
    "p1 = People('alex', 18)"
   ]
  },
  {
   "cell_type": "code",
   "execution_count": 5,
   "metadata": {},
   "outputs": [
    {
     "name": "stdout",
     "output_type": "stream",
     "text": [
      "Str调用\n"
     ]
    }
   ],
   "source": [
    "p1.name"
   ]
  },
  {
   "cell_type": "code",
   "execution_count": 7,
   "metadata": {},
   "outputs": [
    {
     "name": "stdout",
     "output_type": "stream",
     "text": [
      "{}\n",
      "{'__module__': '__main__', 'name': <__main__.Str object at 0x0000017D6DBB3B50>, 'age': <__main__.Int object at 0x0000017D6DB9DB80>, '__init__': <function People.__init__ at 0x0000017D6DC52670>, '__dict__': <attribute '__dict__' of 'People' objects>, '__weakref__': <attribute '__weakref__' of 'People' objects>, '__doc__': None}\n"
     ]
    }
   ],
   "source": [
    "print(p1.__dict__)\n",
    "print(People.__dict__)"
   ]
  },
  {
   "cell_type": "code",
   "execution_count": 12,
   "metadata": {},
   "outputs": [],
   "source": [
    "class MyDesciptor:\n",
    "    def __init__(self, name=\"default\"):\n",
    "        self.name = name\n",
    "        \n",
    "    def __get__(self, instance, owner):\n",
    "        print(f\"Getting {self.name}\")\n",
    "        return self.name\n",
    "    \n",
    "    def __set__(self, instance, value):\n",
    "        print(f\"Setting {self.name} to {value}\")\n",
    "        self.name = value\n",
    "    \n",
    "    def __delete__(self, instance):\n",
    "        print(f\"Deleting {self.name}\")\n",
    "        del self.name\n",
    "        \n",
    "class MyClass:\n",
    "    attr = MyDesciptor()\n",
    "\n",
    "obj = MyClass()"
   ]
  },
  {
   "cell_type": "code",
   "execution_count": 13,
   "metadata": {},
   "outputs": [
    {
     "name": "stdout",
     "output_type": "stream",
     "text": [
      "Getting default\n"
     ]
    },
    {
     "data": {
      "text/plain": [
       "'default'"
      ]
     },
     "execution_count": 13,
     "metadata": {},
     "output_type": "execute_result"
    }
   ],
   "source": [
    "obj.attr"
   ]
  },
  {
   "cell_type": "code",
   "execution_count": 14,
   "metadata": {},
   "outputs": [
    {
     "name": "stdout",
     "output_type": "stream",
     "text": [
      "{}\n",
      "{'__module__': '__main__', 'attr': <__main__.MyDesciptor object at 0x0000017D6DB8D610>, '__dict__': <attribute '__dict__' of 'MyClass' objects>, '__weakref__': <attribute '__weakref__' of 'MyClass' objects>, '__doc__': None}\n"
     ]
    }
   ],
   "source": [
    "print(obj.__dict__)\n",
    "print(MyClass.__dict__)"
   ]
  },
  {
   "cell_type": "code",
   "execution_count": 16,
   "metadata": {},
   "outputs": [],
   "source": [
    "class LazyProperty:\n",
    "    def __init__(self, func):\n",
    "        self.func = func\n",
    "\n",
    "    def __get__(self, instance, owner):\n",
    "        value = self.func(instance)\n",
    "        setattr(instance, self.func.__name__, value)\n",
    "        return value\n",
    "\n",
    "class MyClass:\n",
    "    @LazyProperty\n",
    "    def expensive_computation(self):\n",
    "        print(\"Performing expensive computation\")\n",
    "        return 42\n"
   ]
  },
  {
   "cell_type": "code",
   "execution_count": 17,
   "metadata": {},
   "outputs": [],
   "source": [
    "obj = MyClass()"
   ]
  },
  {
   "cell_type": "code",
   "execution_count": 20,
   "metadata": {},
   "outputs": [
    {
     "data": {
      "text/plain": [
       "42"
      ]
     },
     "execution_count": 20,
     "metadata": {},
     "output_type": "execute_result"
    }
   ],
   "source": [
    "obj.expensive_computation"
   ]
  },
  {
   "cell_type": "code",
   "execution_count": 21,
   "metadata": {},
   "outputs": [
    {
     "data": {
      "text/plain": [
       "{'expensive_computation': 42}"
      ]
     },
     "execution_count": 21,
     "metadata": {},
     "output_type": "execute_result"
    }
   ],
   "source": [
    "obj.__dict__"
   ]
  },
  {
   "cell_type": "code",
   "execution_count": 23,
   "metadata": {},
   "outputs": [
    {
     "name": "stdout",
     "output_type": "stream",
     "text": [
      "在这里可以加功能啊...\n",
      "<__main__.ClassMethod object at 0x0000017D6DB2D790> None <class '__main__.People'>\n",
      "你好啊,帅哥 nick\n"
     ]
    }
   ],
   "source": [
    "class ClassMethod:\n",
    "    def __init__(self, func):\n",
    "        self.func = func\n",
    "\n",
    "    def __get__(\n",
    "            self, instance,\n",
    "            owner):  #类来调用,instance为None,owner为类本身,实例来调用,instance为实例,owner为类本身,\n",
    "        def feedback():\n",
    "            print('在这里可以加功能啊...')\n",
    "            print(self, instance, owner)\n",
    "            return self.func(owner)\n",
    "\n",
    "        return feedback\n",
    "\n",
    "\n",
    "class People:\n",
    "    name = 'nick'\n",
    "\n",
    "    @ClassMethod  # say_hi=ClassMethod(say_hi)\n",
    "    def say_hi(cls):\n",
    "        print('你好啊,帅哥 %s' % cls.name)\n",
    "\n",
    "\n",
    "People.say_hi()"
   ]
  },
  {
   "cell_type": "code",
   "execution_count": 25,
   "metadata": {},
   "outputs": [
    {
     "name": "stdout",
     "output_type": "stream",
     "text": [
      "在这里可以加功能啊...\n",
      "<__main__.ClassMethod object at 0x0000017D6DB2D790> <__main__.People object at 0x0000017D6DAEE820> <class '__main__.People'>\n",
      "你好啊,帅哥 nick\n"
     ]
    }
   ],
   "source": [
    "p1 = People()\n",
    "p1.say_hi()"
   ]
  },
  {
   "cell_type": "code",
   "execution_count": 26,
   "metadata": {},
   "outputs": [],
   "source": [
    "class Foo:\n",
    "    def __init__(self, name):\n",
    "        self.name = name\n",
    "\n",
    "    def __getitem__(self, item):\n",
    "        print('getitem执行', self.__dict__[item])\n",
    "\n",
    "    def __setitem__(self, key, value):\n",
    "        print('setitem执行')\n",
    "        self.__dict__[key] = value\n",
    "\n",
    "    def __delitem__(self, key):\n",
    "        print('del obj[key]时，delitem执行')\n",
    "        self.__dict__.pop(key)\n",
    "\n",
    "    def __delattr__(self, item):\n",
    "        print('del obj.key时，delattr执行')\n",
    "        self.__dict__.pop(item)\n",
    "\n",
    "\n",
    "f1 = Foo('sb')"
   ]
  },
  {
   "cell_type": "code",
   "execution_count": 28,
   "metadata": {},
   "outputs": [
    {
     "name": "stdout",
     "output_type": "stream",
     "text": [
      "setitem执行\n",
      "setitem执行\n"
     ]
    }
   ],
   "source": [
    "f1['age'] = 18\n",
    "f1['age1'] = 18"
   ]
  },
  {
   "cell_type": "code",
   "execution_count": 29,
   "metadata": {},
   "outputs": [
    {
     "name": "stdout",
     "output_type": "stream",
     "text": [
      "getitem执行 18\n"
     ]
    }
   ],
   "source": [
    "f1['age']"
   ]
  },
  {
   "cell_type": "code",
   "execution_count": 30,
   "metadata": {},
   "outputs": [
    {
     "name": "stdout",
     "output_type": "stream",
     "text": [
      "setitem执行\n"
     ]
    }
   ],
   "source": [
    "f1['name'] = 'tank'"
   ]
  },
  {
   "cell_type": "code",
   "execution_count": 31,
   "metadata": {},
   "outputs": [
    {
     "data": {
      "text/plain": [
       "{'name': 'tank', 'age': 18, 'age1': 18}"
      ]
     },
     "execution_count": 31,
     "metadata": {},
     "output_type": "execute_result"
    }
   ],
   "source": [
    "f1.__dict__"
   ]
  },
  {
   "cell_type": "code",
   "execution_count": 32,
   "metadata": {},
   "outputs": [
    {
     "name": "stdout",
     "output_type": "stream",
     "text": [
      "del obj.key时，delattr执行\n",
      "del obj[key]时，delitem执行\n"
     ]
    }
   ],
   "source": [
    "del f1.age1\n",
    "del f1['age']"
   ]
  },
  {
   "cell_type": "code",
   "execution_count": 33,
   "metadata": {},
   "outputs": [
    {
     "data": {
      "text/plain": [
       "{'name': 'tank'}"
      ]
     },
     "execution_count": 33,
     "metadata": {},
     "output_type": "execute_result"
    }
   ],
   "source": [
    "f1.__dict__"
   ]
  },
  {
   "cell_type": "code",
   "execution_count": 59,
   "metadata": {},
   "outputs": [],
   "source": [
    "date_dic = {\n",
    "    'ymd': '{0.year}:{0.month}:{0.day}',\n",
    "    'dmy': '{0.day}/{0.month}/{0.year}',\n",
    "    'mdy': '{0.month}-{0.day}-{0.year}',\n",
    "}\n",
    "\n",
    "\n",
    "class Date:\n",
    "    '''\n",
    "    adsfasdfasdfasdfasdfasdf\n",
    "    '''\n",
    "    def __init__(self, year, month, day):\n",
    "        self.year = year\n",
    "        self.month = month\n",
    "        self.day = day\n",
    "\n",
    "    def __format__(self, format_spec):\n",
    "        # 默认打印ymd的{0.year}:{0.month}:{0.day}格式\n",
    "        if not format_spec or format_spec not in date_dic:\n",
    "            format_spec = 'ymd'\n",
    "        fmt = date_dic[format_spec]\n",
    "        print(fmt)\n",
    "        return fmt.format(self)\n",
    "\n",
    "\n",
    "d1 = Date(2016, 12, 29)"
   ]
  },
  {
   "cell_type": "code",
   "execution_count": 58,
   "metadata": {},
   "outputs": [
    {
     "name": "stdout",
     "output_type": "stream",
     "text": [
      "{1}/{0.month}/{0.year}\n",
      "1/12/2016\n"
     ]
    }
   ],
   "source": [
    "print(\"{:dmy}\".format(d1))"
   ]
  },
  {
   "cell_type": "code",
   "execution_count": 61,
   "metadata": {},
   "outputs": [],
   "source": [
    "from typing import Any\n",
    "\n",
    "\n",
    "class Foo:\n",
    "    def __init__(self) -> None:\n",
    "        print('__init__')\n",
    "    def __call__(self, *args: Any, **kwds: Any) -> Any:\n",
    "        print('__call__')"
   ]
  },
  {
   "cell_type": "code",
   "execution_count": 63,
   "metadata": {},
   "outputs": [
    {
     "name": "stdout",
     "output_type": "stream",
     "text": [
      "__init__\n"
     ]
    }
   ],
   "source": [
    "f = Foo()"
   ]
  },
  {
   "cell_type": "code",
   "execution_count": 64,
   "metadata": {},
   "outputs": [
    {
     "name": "stdout",
     "output_type": "stream",
     "text": [
      "__call__\n"
     ]
    }
   ],
   "source": [
    "f()"
   ]
  },
  {
   "cell_type": "code",
   "execution_count": 65,
   "metadata": {},
   "outputs": [],
   "source": [
    "class School:\n",
    "    def __init__(self, name, addr, type):\n",
    "        self.name = name\n",
    "        self.addr = addr\n",
    "        self.type = type\n",
    "\n",
    "    def __repr__(self):\n",
    "        return 'School(%s,%s)' % (self.name, self.addr)\n",
    "\n",
    "    def __str__(self):\n",
    "        return '(%s,%s)' % (self.name, self.addr)\n",
    "\n",
    "\n",
    "s1 = School('oldboy1', '北京', '私立')"
   ]
  },
  {
   "cell_type": "code",
   "execution_count": 67,
   "metadata": {},
   "outputs": [
    {
     "name": "stdout",
     "output_type": "stream",
     "text": [
      "打印的时候自动触发，但是其实不需要print即可打印\n",
      "nick:18\n"
     ]
    }
   ],
   "source": [
    "print(obj)"
   ]
  },
  {
   "cell_type": "code",
   "execution_count": 71,
   "metadata": {},
   "outputs": [],
   "source": [
    "class Fib:\n",
    "    def __init__(self):\n",
    "        self._a = 0\n",
    "        self._b = 1\n",
    "\n",
    "    def __iter__(self):\n",
    "        return self\n",
    "\n",
    "    def __next__(self):\n",
    "        self._a, self._b = self._b, self._a + self._b\n",
    "        return self._a\n",
    "\n",
    "\n",
    "f1 = Fib()"
   ]
  },
  {
   "cell_type": "code",
   "execution_count": 72,
   "metadata": {},
   "outputs": [
    {
     "name": "stdout",
     "output_type": "stream",
     "text": [
      "1 1 2 3 5 8 13 21 34 55 89 "
     ]
    }
   ],
   "source": [
    "for i in f1:\n",
    "    if i > 100:\n",
    "        break\n",
    "    print('%s ' % i, end=\"\")"
   ]
  }
 ],
 "metadata": {
  "kernelspec": {
   "display_name": "d2l",
   "language": "python",
   "name": "python3"
  },
  "language_info": {
   "codemirror_mode": {
    "name": "ipython",
    "version": 3
   },
   "file_extension": ".py",
   "mimetype": "text/x-python",
   "name": "python",
   "nbconvert_exporter": "python",
   "pygments_lexer": "ipython3",
   "version": "3.9.18"
  }
 },
 "nbformat": 4,
 "nbformat_minor": 2
}
